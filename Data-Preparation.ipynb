{
 "cells": [
  {
   "attachments": {},
   "cell_type": "markdown",
   "metadata": {},
   "source": [
    "# Data Preparation for Predicting Employee Attrition \n",
    "*By Bhavya Bhargava*<br>\n",
    "\n",
    "Employee attrition prediction is crucial for organizations aiming to maintain a strong and committed workforce. By leveraging data-driven insights, HR analysts can identify key factors that influence employee departures and take proactive steps to improve retention. Preparing the IBM employee attrition dataset is a critical step in this process, ensuring that the data is clean, structured, and ready for meaningful analysis. Proper data preparation—such as handling missing values, encoding categorical variables, and normalizing numerical features—enhances model accuracy and reliability. By refining the dataset, we can build predictive models that help HR teams make informed decisions, reduce turnover costs, and create a more engaged work environment.\n",
    "\n",
    "### About the Dataset:\n",
    "#### Dataset Source:\n",
    "The IBM HR Employee Attrition dataset is publicly available and is often used for predictive analytics and HR analytics. It contains various employee-related attributes, helping organizations understand factors influencing attrition.\n",
    "\n",
    "This Dataset was Orginally developed for IBM Watson Studio by Saishruthi Swaminathan, Rich Hagarty but has since been made available to people openly on Kaggle to work on and get insights from.\n",
    "\n",
    "_Sources:_ <br>\n",
    "[Visit IBM Developer Page](https://developer.ibm.com/patterns/data-science-life-cycle-in-action-to-solve-employee-attrition-problem/)<br>\n",
    "[Visit Kaggle Page](https://www.kaggle.com/datasets/pavansubhasht/ibm-hr-analytics-attrition-dataset/data)\n",
    "\n",
    "_*Let's start with the preparation...*_\n",
    "\n",
    "**Step 1**: Setting up the environment for Processing and Proper displaying of data\n"
   ]
  },
  {
   "cell_type": "code",
   "execution_count": 1,
   "metadata": {},
   "outputs": [],
   "source": [
    "import pandas as pd\n",
    "import numpy as np\n",
    "import matplotlib.pyplot as plt\n",
    "import seaborn as sns\n",
    "from sklearn.preprocessing import LabelEncoder\n",
    "%matplotlib inline\n",
    "\n",
    "# Set display options for better notebook readability\n",
    "pd.set_option('display.max_columns', None)\n",
    "pd.set_option('display.max_rows', 100)\n",
    "pd.set_option('display.width', 1000)\n",
    "\n",
    "# Suppress warnings\n",
    "import warnings\n",
    "warnings.filterwarnings('ignore')"
   ]
  },
  {
   "attachments": {},
   "cell_type": "markdown",
   "metadata": {},
   "source": [
    "**Step 2**: Loading the Dataset for processing"
   ]
  },
  {
   "cell_type": "code",
   "execution_count": 2,
   "metadata": {},
   "outputs": [
    {
     "name": "stdout",
     "output_type": "stream",
     "text": [
      "Loading the dataset...\n"
     ]
    }
   ],
   "source": [
    "print(\"Loading the dataset...\")\n",
    "df = pd.read_csv('WA_Fn-UseC_-HR-Employee-Attrition.csv')"
   ]
  }
 ],
 "metadata": {
  "kernelspec": {
   "display_name": "hr_analysis_env",
   "language": "python",
   "name": "python3"
  },
  "language_info": {
   "codemirror_mode": {
    "name": "ipython",
    "version": 3
   },
   "file_extension": ".py",
   "mimetype": "text/x-python",
   "name": "python",
   "nbconvert_exporter": "python",
   "pygments_lexer": "ipython3",
   "version": "3.12.2"
  },
  "orig_nbformat": 4
 },
 "nbformat": 4,
 "nbformat_minor": 2
}
