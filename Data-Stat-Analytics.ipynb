{
 "cells": [
  {
   "attachments": {},
   "cell_type": "markdown",
   "metadata": {},
   "source": [
    "# Statistical analysis of data for Predicting Employee Attrition \n",
    "*By Bhavya Bhargava*<br>\n",
    "\n",
    "### **Why Perform Statistical Analysis on HR Attrition Data?**  \n",
    "\n",
    "After preparing HR attrition data and visualizing its trends, **statistical analysis** helps validate insights, uncover deeper relationships, and support data-driven decision-making.  \n",
    "\n",
    "📊 **Quantifies Key Attrition Drivers** – Statistical tests measure the significance of factors like job satisfaction, salary hikes, and promotions in influencing turnover.  \n",
    "\n",
    "📉 **Detects Correlations and Dependencies** – Identifies relationships between variables, such as whether longer tenure reduces attrition risk or if frequent travel increases it.  \n",
    "\n",
    "📈 **Builds Predictive Insights** – Regression analysis and hypothesis testing forecast attrition trends and highlight high-risk employee groups.  \n",
    "\n",
    "🔍 **Ensures Data-Driven Decision-Making** – Statistical validation helps avoid assumptions, providing HR teams with actionable, evidence-based strategies.  \n",
    "\n",
    "By leveraging statistical analysis, organizations move beyond **visual trends** to **quantifiable insights**, enabling more effective retention strategies and workforce planning. 🚀\n",
    "<br>\n",
    "<br>\n",
    "_Now let's start with creating a comprehensive statistical analysis following a streamlined approach and key relevant analysis techniques._\n",
    "<br>\n",
    "<br>\n",
    "Let's initialize the environmment for this statistical analysis."
   ]
  },
  {
   "cell_type": "code",
   "execution_count": 3,
   "metadata": {},
   "outputs": [],
   "source": [
    "# Importing necessary libraries\n",
    "import numpy as np\n",
    "import pandas as pd\n",
    "import matplotlib.pyplot as plt\n",
    "import seaborn as sns\n",
    "from scipy import stats\n",
    "from scipy.stats import chi2_contingency\n",
    "import warnings\n",
    "\n",
    "# Configuring visualization settings\n",
    "sns.set(style=\"white\", font_scale=1.2)\n",
    "sns.set_context(\"notebook\")\n",
    "warnings.filterwarnings('ignore')\n",
    "\n",
    "# Reading the dataset\n",
    "df = pd.read_csv('WA_Fn-UseC_-HR-Employee-Attrition_Processed.csv')\n",
    "\n",
    "# For ignoring unncecessary warnings that may arise\n",
    "warnings.filterwarnings('always')\n",
    "warnings.filterwarnings('ignore')"
   ]
  },
  {
   "attachments": {},
   "cell_type": "markdown",
   "metadata": {},
   "source": [
    "We should first get an overview of our data so as to verify it's shape and the various types of it's features."
   ]
  },
  {
   "cell_type": "code",
   "execution_count": 4,
   "metadata": {},
   "outputs": [
    {
     "name": "stdout",
     "output_type": "stream",
     "text": [
      "Dataset Shape: (1470, 51)\n",
      "\n",
      "Sample of numerical features:\n",
      "['Age', 'Attrition', 'DailyRate', 'DistanceFromHome', 'HourlyRate', 'JobLevel', 'MonthlyIncome', 'MonthlyRate', 'NumCompaniesWorked', 'PercentSalaryHike', 'StockOptionLevel', 'TotalWorkingYears', 'TrainingTimesLastYear', 'YearsAtCompany', 'YearsInCurrentRole', 'YearsSinceLastPromotion', 'YearsWithCurrManager', 'OverallSatisfaction', 'CareerProgressionRatio', 'YearsWithoutPromotion', 'AnnualSalary', 'SalaryHikeImpact', 'WorkLoadIndex', 'BusinessTravel_Encoded', 'Department_Encoded', 'Education_Encoded', 'EducationField_Encoded', 'EnvironmentSatisfaction_Encoded', 'Gender_Encoded', 'JobInvolvement_Encoded', 'JobRole_Encoded', 'JobSatisfaction_Encoded', 'MaritalStatus_Encoded', 'OverTime_Encoded', 'PerformanceRating_Encoded', 'RelationshipSatisfaction_Encoded', 'WorkLifeBalance_Encoded']\n",
      "\n",
      "Sample of categorical features:\n",
      "['BusinessTravel', 'Department', 'Education', 'EducationField', 'EnvironmentSatisfaction', 'Gender', 'JobInvolvement', 'JobRole', 'JobSatisfaction', 'MaritalStatus', 'OverTime', 'PerformanceRating', 'RelationshipSatisfaction', 'WorkLifeBalance']\n"
     ]
    }
   ],
   "source": [
    "# Initial Data Overview\n",
    "print(\"Dataset Shape:\", df.shape)\n",
    "print(\"\\nSample of numerical features:\")\n",
    "print(df.select_dtypes(np.number).columns.tolist())\n",
    "print(\"\\nSample of categorical features:\")\n",
    "print(df.select_dtypes(include=\"object\").columns.tolist())"
   ]
  },
  {
   "attachments": {},
   "cell_type": "markdown",
   "metadata": {},
   "source": [
    "As the shape and feature data is consistent from the preparation stage we can move forward with the various statistical analysis tests.\n",
    "\n"
   ]
  }
 ],
 "metadata": {
  "kernelspec": {
   "display_name": "hr_analysis_env",
   "language": "python",
   "name": "python3"
  },
  "language_info": {
   "codemirror_mode": {
    "name": "ipython",
    "version": 3
   },
   "file_extension": ".py",
   "mimetype": "text/x-python",
   "name": "python",
   "nbconvert_exporter": "python",
   "pygments_lexer": "ipython3",
   "version": "3.12.2"
  },
  "orig_nbformat": 4
 },
 "nbformat": 4,
 "nbformat_minor": 2
}
